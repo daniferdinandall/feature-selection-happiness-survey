{
 "cells": [
  {
   "cell_type": "code",
   "execution_count": 6,
   "metadata": {},
   "outputs": [],
   "source": [
    "# import modules\n",
    "from dbfread import DBF\n",
    "import pandas as pd\n",
    "import numpy as np"
   ]
  },
  {
   "cell_type": "code",
   "execution_count": 7,
   "metadata": {},
   "outputs": [],
   "source": [
    "# Tentukan file .dbf yang akan dibaca\n",
    "raw_data_1 = '../raw_datasets/sptk2021_1_diseminasi.dbf'\n",
    "raw_data_2 = '../raw_datasets/sptk2021_2_diseminasi.dbf'\n",
    "\n",
    "# Buka file .dbf dan baca data sebagai daftar\n",
    "table1 = DBF(raw_data_1, encoding='iso-8859-1')\n",
    "data1 = [record for record in table1]\n",
    "table2 = DBF(raw_data_2, encoding='iso-8859-1')\n",
    "data2 = [record for record in table2]\n",
    "\n",
    "# Konversi data ke DataFrame Pandas\n",
    "df1 = pd.DataFrame(data1)\n",
    "df2 = pd.DataFrame(data2)"
   ]
  },
  {
   "cell_type": "code",
   "execution_count": 8,
   "metadata": {},
   "outputs": [
    {
     "name": "stdout",
     "output_type": "stream",
     "text": [
      "Kolom yang hanya ada di df1: ['B4K1', 'B4K3', 'B4K4', 'B4K5', 'B4K6', 'B4K7', 'LAMA_TINGG', 'R1001A', 'R1001B', 'R1001C', 'R1002A', 'R1002B', 'R1002C', 'R1002D', 'R1002E', 'R1002F', 'R1002G', 'R1002H', 'R1002I', 'R1002J', 'R1003A', 'R1003B', 'R1003C', 'R1003D', 'R1003E', 'R1003F', 'R1003G', 'R1003H', 'R1003I', 'R1003J', 'R1004A', 'R1004B', 'R1004C', 'R1004D', 'R1004E', 'R1004F', 'R1005', 'R1101A1', 'R1101A2', 'R1101A3', 'R1101A4', 'R1101A5', 'R1101B1', 'R1101B2', 'R1101B3', 'R1101C', 'R1102', 'R1103AK2', 'R1103AK3', 'R1103AK4', 'R1103AK5', 'R1103AK6', 'R1103AK7', 'R1103BK2', 'R1103BK3', 'R1103BK4', 'R1103BK5', 'R1103BK6', 'R1103BK7', 'R1103CK2', 'R1103CK3', 'R1103CK4', 'R1103CK5', 'R1103CK6', 'R1103CK7', 'R1103DK2', 'R1103DK3', 'R1103DK4', 'R1103DK5', 'R1103DK6', 'R1103DK7', 'R1103EK2', 'R1103EK3', 'R1103EK4', 'R1103EK5', 'R1103EK6', 'R1103EK7', 'R1103FK2', 'R1103FK3', 'R1103FK4', 'R1103FK5', 'R1103FK6', 'R1103FK7', 'R1103GK2', 'R1103GK3', 'R1103GK4', 'R1103GK5', 'R1103GK6', 'R1103GK7', 'R1103HK2', 'R1103HK3', 'R1103HK4', 'R1103HK5', 'R1103HK6', 'R1103HK7', 'R1103IK2', 'R1103IK3', 'R1103IK4', 'R1103IK5', 'R1103IK6', 'R1103IK7', 'R1103JK2', 'R1103JK3', 'R1103JK4', 'R1103JK5', 'R1103JK6', 'R1103JK7', 'R1104A', 'R1104B', 'R1104C', 'R1105', 'R1106A', 'R1106B', 'R1107A', 'R1107B', 'R1108', 'R1201', 'R1202', 'R1203', 'R1204', 'R1205', 'R1206A', 'R1206B', 'R1207', 'R1208', 'R1209', 'R1210A', 'R1210B', 'R1210C', 'R1210D', 'R1210E', 'R1211', 'R501', 'R502', 'R503', 'R504A', 'R504B', 'R504C', 'R505', 'R601A', 'R601B1', 'R601B2', 'R602A1', 'R602A2', 'R602B', 'R603', 'R604A', 'R604B', 'R604C', 'R604D', 'R604E', 'R604F', 'R604G', 'R605', 'R606', 'R607', 'R608', 'R609A', 'R609B', 'R609C', 'R610', 'R701A', 'R701B', 'R702A', 'R702B', 'R703A1', 'R703A2', 'R703B', 'R704A', 'R704B', 'R704C', 'R704D', 'R704E', 'R704F', 'R704G', 'R704H', 'R705A', 'R705B1', 'R705B2', 'R705B3', 'R705B4', 'R705B5', 'R705B6', 'R706A', 'R706B', 'R706C', 'R706D', 'R706E', 'R706F', 'R706G', 'R706H', 'R706I', 'R706J', 'R707A', 'R707B', 'R707C', 'R708', 'R801A', 'R801B', 'R801C', 'R801D', 'R802', 'R901', 'R902A', 'R902B1', 'R902B2', 'R902B3', 'R902B4', 'R902B5', 'R902C', 'R903']\n",
      "Kolom yang hanya ada di df2: ['R1301A', 'R1301B', 'R1301C', 'R1302', 'R1303A', 'R1303B', 'R1303C', 'R1304', 'R1305A', 'R1305B', 'R1305C', 'R1305D', 'R1306', 'R1401A', 'R1401B', 'R1401C', 'R1401D', 'R1402', 'R1403A', 'R1403B', 'R1403C', 'R1404', 'R1405A', 'R1405B', 'R1405C', 'R1406', 'R1407A', 'R1407B', 'R1408', 'R1409A', 'R1409B', 'R1410', 'R1411A', 'R1411B', 'R1411C', 'R1412', 'R1501', 'R1502', 'R1601A', 'R1601B', 'R1602', 'R1603', 'R1604A', 'R1604B', 'R1605A', 'R1605B', 'R1605C', 'R1605D', 'R1605E', 'R1606', 'R1607A', 'R1607B', 'R1608A', 'R1608B', 'R1608C', 'R1609A', 'R1609B1', 'R1609B2', 'R1609B3', 'R1609B4', 'R1609B5', 'R1609B6', 'R1609C', 'R1610', 'R1611', 'R1612', 'R1613A', 'R1613B', 'R1613C', 'R1614', 'R1615', 'R1616']\n"
     ]
    }
   ],
   "source": [
    "kolom_df1 = set(df1.columns)\n",
    "kolom_df2 = set(df2.columns)\n",
    "\n",
    "kolom_hanya_di_df1 = kolom_df1 - kolom_df2\n",
    "kolom_hanya_di_df2 = kolom_df2 - kolom_df1\n",
    "\n",
    "kolom_hanya_di_df1 = sorted(list(kolom_hanya_di_df1))\n",
    "kolom_hanya_di_df2 = sorted(list(kolom_hanya_di_df2))\n",
    "\n",
    "print(\"Kolom yang hanya ada di df1:\", kolom_hanya_di_df1)\n",
    "print(\"Kolom yang hanya ada di df2:\", kolom_hanya_di_df2)"
   ]
  },
  {
   "cell_type": "code",
   "execution_count": 9,
   "metadata": {},
   "outputs": [
    {
     "name": "stdout",
     "output_type": "stream",
     "text": [
      "DataFrame gabungan:\n",
      "(74684, 293)\n"
     ]
    },
    {
     "data": {
      "text/html": [
       "<div>\n",
       "<style scoped>\n",
       "    .dataframe tbody tr th:only-of-type {\n",
       "        vertical-align: middle;\n",
       "    }\n",
       "\n",
       "    .dataframe tbody tr th {\n",
       "        vertical-align: top;\n",
       "    }\n",
       "\n",
       "    .dataframe thead th {\n",
       "        text-align: right;\n",
       "    }\n",
       "</style>\n",
       "<table border=\"1\" class=\"dataframe\">\n",
       "  <thead>\n",
       "    <tr style=\"text-align: right;\">\n",
       "      <th></th>\n",
       "      <th>URUT</th>\n",
       "      <th>R101</th>\n",
       "      <th>R101_NAMA</th>\n",
       "      <th>R105</th>\n",
       "      <th>R108</th>\n",
       "      <th>R111</th>\n",
       "      <th>R201</th>\n",
       "      <th>R201A</th>\n",
       "      <th>R201B</th>\n",
       "      <th>R1301A</th>\n",
       "    </tr>\n",
       "  </thead>\n",
       "  <tbody>\n",
       "    <tr>\n",
       "      <th>0</th>\n",
       "      <td>1</td>\n",
       "      <td>11</td>\n",
       "      <td>Aceh</td>\n",
       "      <td>2</td>\n",
       "      <td>001</td>\n",
       "      <td>1</td>\n",
       "      <td>2</td>\n",
       "      <td>0</td>\n",
       "      <td>2</td>\n",
       "      <td>1</td>\n",
       "    </tr>\n",
       "    <tr>\n",
       "      <th>1</th>\n",
       "      <td>2</td>\n",
       "      <td>11</td>\n",
       "      <td>Aceh</td>\n",
       "      <td>2</td>\n",
       "      <td>002</td>\n",
       "      <td>1</td>\n",
       "      <td>4</td>\n",
       "      <td>3</td>\n",
       "      <td>1</td>\n",
       "      <td>1</td>\n",
       "    </tr>\n",
       "    <tr>\n",
       "      <th>2</th>\n",
       "      <td>3</td>\n",
       "      <td>11</td>\n",
       "      <td>Aceh</td>\n",
       "      <td>2</td>\n",
       "      <td>003</td>\n",
       "      <td>1</td>\n",
       "      <td>1</td>\n",
       "      <td>0</td>\n",
       "      <td>1</td>\n",
       "      <td>1</td>\n",
       "    </tr>\n",
       "    <tr>\n",
       "      <th>3</th>\n",
       "      <td>4</td>\n",
       "      <td>11</td>\n",
       "      <td>Aceh</td>\n",
       "      <td>2</td>\n",
       "      <td>004</td>\n",
       "      <td>1</td>\n",
       "      <td>4</td>\n",
       "      <td>3</td>\n",
       "      <td>1</td>\n",
       "      <td>1</td>\n",
       "    </tr>\n",
       "    <tr>\n",
       "      <th>4</th>\n",
       "      <td>5</td>\n",
       "      <td>11</td>\n",
       "      <td>Aceh</td>\n",
       "      <td>2</td>\n",
       "      <td>005</td>\n",
       "      <td>1</td>\n",
       "      <td>7</td>\n",
       "      <td>5</td>\n",
       "      <td>2</td>\n",
       "      <td>1</td>\n",
       "    </tr>\n",
       "  </tbody>\n",
       "</table>\n",
       "</div>"
      ],
      "text/plain": [
       "       URUT R101 R101_NAMA R105 R108 R111  R201  R201A  R201B R1301A\n",
       "0         1   11      Aceh    2  001    1     2      0      2      1\n",
       "1         2   11      Aceh    2  002    1     4      3      1      1\n",
       "2         3   11      Aceh    2  003    1     1      0      1      1\n",
       "3         4   11      Aceh    2  004    1     4      3      1      1\n",
       "4         5   11      Aceh    2  005    1     7      5      2      1"
      ]
     },
     "execution_count": 9,
     "metadata": {},
     "output_type": "execute_result"
    }
   ],
   "source": [
    "# Menentukan kolom yang sama\n",
    "kolom_sama = list(set(df2.columns).intersection(set(df1.columns)))\n",
    "\n",
    "# Menggabungkan kedua DataFrame berdasarkan kolom yang sama\n",
    "df_combined = pd.merge(df2, df1, on=kolom_sama)\n",
    "# Mengganti string kosong atau spasi dengan NaN\n",
    "# df_combined.replace(r'^\\s*$', np.nan, regex=True, inplace=True)\n",
    "\n",
    "print(\"DataFrame gabungan:\")\n",
    "print(df_combined.shape)\n",
    "df_combined.iloc[:5, :10]"
   ]
  },
  {
   "cell_type": "code",
   "execution_count": null,
   "metadata": {},
   "outputs": [],
   "source": []
  },
  {
   "cell_type": "markdown",
   "metadata": {},
   "source": [
    "Kolom data sparse (Data Kosong/atau telah ditentukan) karena skip logic\n",
    "1.  R601B1, R601B2 => Jika R601A = 1\n",
    "2.  R602A1,R602A2,R602B,R603,R604A,R604B,R604C,R604D,R604E,R604F,R604G,R605 => Jika R601A = 2\n",
    "3.  R609C => Jika R609B = 1,2\n",
    "4.  R701B => Jika R701A = 1\n",
    "5.  R702B => Jika R702A = 2\n",
    "6.  R703A1, R703A2 => Jika R701A berkode 2, 3, 4 atau R702A berkode 1\n",
    "7.  R703B => Jika R701A berkode 2, 3, 4 atau R702A berkode 1, Atau R703A1 = 2 dan R703A2 = 2\n",
    "8.  R705B1, R705B2, R705B3, R705B4, R705B5, R705B6 => Jika R705A = 2\n",
    "9.  R902B1, R902B2, R902B3, R902B4, R902B5, R902C => Jika R902A = 00\n",
    "10. R1103AK2, R1103AK3, R1103AK4, R1103AK5, R1103AK6, R1103AK7, R1103BK2, R1103BK3, R1103BK4, R1103BK5, R1103BK6, R1103BK7, R1103CK2, R1103CK3, R1103CK4, R1103CK5, R1103CK6, R1103CK7, R1103DK2, R1103DK3, R1103DK4, R1103DK5, R1103DK6, R1103DK7, R1103EK2, R1103EK3, R1103EK4, R1103EK5, R1103EK6, R1103EK7, R1103FK2, R1103FK3, R1103FK4, R1103FK5, R1103FK6, R1103FK7, R1103GK2, R1103GK3, R1103GK4, R1103GK5, R1103GK6, R1103GK7, R1103HK2, R1103HK3, R1103HK4, R1103HK5, R1103HK6, R1103HK7, R1103IK2, R1103IK3, R1103IK4, R1103IK5, R1103IK6, R1103IK7, R1103JK2, R1103JK3, R1103JK4, R1103JK5, R1103JK6, R1103JK7 => Nilai Kosong Sudah Terisi nilai 7\n",
    "11. R1601A, R1601B => Jika R1206A = 3\n",
    "12. R1604B => Jika R1604A = 2\n",
    "13. R1607B => Jika R1607A = 1, 2, 3\n",
    "14. R1608B => Jika R1608A = 1\n",
    "15. R1608C => Jika R1608A = 2\n",
    "16. R1609B1, R1609B2, R1609B3, R1609B4, R1609B5, R1609B6 => Jika R1609A = 1\n",
    "17. R1609C => Jika Jika R1609A = 1 dan salah satu R1609B1-6 = 1\n",
    "18. R1613B => Jika R1613A != 1\n",
    "19. R1613C => Jika R1613A != 2\n"
   ]
  },
  {
   "cell_type": "code",
   "execution_count": 10,
   "metadata": {},
   "outputs": [],
   "source": [
    "df_combined.to_csv('../datasets/dataset.csv', index=False)"
   ]
  },
  {
   "cell_type": "code",
   "execution_count": null,
   "metadata": {},
   "outputs": [],
   "source": []
  },
  {
   "cell_type": "code",
   "execution_count": null,
   "metadata": {},
   "outputs": [],
   "source": []
  },
  {
   "cell_type": "code",
   "execution_count": null,
   "metadata": {},
   "outputs": [],
   "source": []
  }
 ],
 "metadata": {
  "kernelspec": {
   "display_name": "Python 3",
   "language": "python",
   "name": "python3"
  },
  "language_info": {
   "codemirror_mode": {
    "name": "ipython",
    "version": 3
   },
   "file_extension": ".py",
   "mimetype": "text/x-python",
   "name": "python",
   "nbconvert_exporter": "python",
   "pygments_lexer": "ipython3",
   "version": "3.10.6"
  }
 },
 "nbformat": 4,
 "nbformat_minor": 2
}
