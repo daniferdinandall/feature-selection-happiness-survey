{
 "cells": [
  {
   "cell_type": "markdown",
   "id": "9c24a620",
   "metadata": {},
   "source": [
    "EDA"
   ]
  },
  {
   "cell_type": "code",
   "execution_count": 1,
   "id": "74dc71c2",
   "metadata": {},
   "outputs": [],
   "source": [
    "import pandas as pd\n",
    "import numpy as np\n",
    "import seaborn as sns\n",
    "import matplotlib.pyplot as plt"
   ]
  },
  {
   "cell_type": "code",
   "execution_count": 3,
   "id": "b022c4c9",
   "metadata": {},
   "outputs": [],
   "source": [
    "df = pd.read_csv('../datasets/dataset.csv')"
   ]
  },
  {
   "cell_type": "code",
   "execution_count": 5,
   "id": "85b56a05",
   "metadata": {},
   "outputs": [
    {
     "name": "stdout",
     "output_type": "stream",
     "text": [
      "Dimensi Data: (74684, 293)\n",
      "int64      188\n",
      "float64    100\n",
      "object       5\n",
      "Name: count, dtype: int64\n"
     ]
    }
   ],
   "source": [
    "# 1. Struktur Data\n",
    "print(\"Dimensi Data:\", df.shape)\n",
    "print(df.dtypes.value_counts())"
   ]
  },
  {
   "cell_type": "code",
   "execution_count": 6,
   "id": "69f57b6b",
   "metadata": {},
   "outputs": [
    {
     "name": "stdout",
     "output_type": "stream",
     "text": [
      "  R101_NAMA R1607B R1608C R1609C R702B\n",
      "0      Aceh    NaN    NaN    NaN   NaN\n",
      "1      Aceh    NaN    NaN    NaN   NaN\n",
      "2      Aceh    NaN    NaN    NaN   NaN\n",
      "3      Aceh    NaN    NaN    NaN   NaN\n",
      "4      Aceh      D    NaN    NaN   NaN\n"
     ]
    }
   ],
   "source": [
    "print(df.select_dtypes(include='object').head())"
   ]
  },
  {
   "cell_type": "code",
   "execution_count": 8,
   "id": "6b270bec",
   "metadata": {},
   "outputs": [
    {
     "name": "stdout",
     "output_type": "stream",
     "text": [
      "\n",
      "Jumlah Missing Values:\n",
      "R1601A       1067\n",
      "R1601B       1067\n",
      "R1604B      13133\n",
      "R1607B      16669\n",
      "R1608B      53025\n",
      "            ...  \n",
      "R1103FK7    74230\n",
      "R1103GK7    74230\n",
      "R1103HK7    74230\n",
      "R1103IK7    74230\n",
      "R1103JK7    74292\n",
      "Length: 101, dtype: int64\n"
     ]
    }
   ],
   "source": [
    "missing = df.isnull().sum()\n",
    "print(\"\\nJumlah Missing Values:\")\n",
    "print(missing[missing > 0])"
   ]
  },
  {
   "cell_type": "code",
   "execution_count": 9,
   "id": "533a8e61",
   "metadata": {},
   "outputs": [
    {
     "name": "stdout",
     "output_type": "stream",
     "text": [
      "\n",
      "Statistik Deskriptif:\n",
      "               URUT          R101          R105          R108     R111  \\\n",
      "count  74684.000000  74684.000000  74684.000000  74684.000000  74684.0   \n",
      "mean   37342.500000     42.012198      1.569091      6.328263      1.0   \n",
      "std    21559.558089     24.507769      0.495207      3.618917      0.0   \n",
      "min        1.000000     11.000000      1.000000      1.000000      1.0   \n",
      "25%    18671.750000     18.000000      1.000000      3.000000      1.0   \n",
      "50%    37342.500000     35.000000      2.000000      6.000000      1.0   \n",
      "75%    56013.250000     63.000000      2.000000      9.000000      1.0   \n",
      "max    74684.000000     94.000000      2.000000     15.000000      1.0   \n",
      "\n",
      "               R201         R201A         R201B        R1301A        R1301B  \\\n",
      "count  74684.000000  74684.000000  74684.000000  74684.000000  74684.000000   \n",
      "mean       3.774905      1.895359      1.879546      1.056572      1.069828   \n",
      "std        1.654046      1.121809      1.057613      0.285560      0.291382   \n",
      "min        1.000000      0.000000      0.000000      1.000000      1.000000   \n",
      "25%        3.000000      1.000000      1.000000      1.000000      1.000000   \n",
      "50%        4.000000      2.000000      2.000000      1.000000      1.000000   \n",
      "75%        5.000000      3.000000      2.000000      1.000000      1.000000   \n",
      "max       19.000000     13.000000     11.000000      4.000000      4.000000   \n",
      "\n",
      "       ...        R1206B         R1207         R1208         R1209  \\\n",
      "count  ...  74684.000000  74684.000000  74684.000000  74684.000000   \n",
      "mean   ...      1.459777      1.269817      3.558660      3.586766   \n",
      "std    ...      0.811360      0.754474      1.591178      0.709727   \n",
      "min    ...      1.000000      1.000000      1.000000      1.000000   \n",
      "25%    ...      1.000000      1.000000      2.000000      3.000000   \n",
      "50%    ...      1.000000      1.000000      4.000000      4.000000   \n",
      "75%    ...      2.000000      1.000000      4.000000      4.000000   \n",
      "max    ...      4.000000      4.000000      6.000000      4.000000   \n",
      "\n",
      "             R1210A        R1210B        R1210C        R1210D        R1210E  \\\n",
      "count  74684.000000  74684.000000  74684.000000  74684.000000  74684.000000   \n",
      "mean       1.198088      1.786594      1.199922      1.119316      1.572465   \n",
      "std        0.398561      0.409715      0.399944      0.324162      0.494724   \n",
      "min        1.000000      1.000000      1.000000      1.000000      1.000000   \n",
      "25%        1.000000      2.000000      1.000000      1.000000      1.000000   \n",
      "50%        1.000000      2.000000      1.000000      1.000000      2.000000   \n",
      "75%        1.000000      2.000000      1.000000      1.000000      2.000000   \n",
      "max        2.000000      2.000000      2.000000      2.000000      2.000000   \n",
      "\n",
      "              R1211  \n",
      "count  74684.000000  \n",
      "mean       7.362032  \n",
      "std        1.645591  \n",
      "min        0.000000  \n",
      "25%        7.000000  \n",
      "50%        8.000000  \n",
      "75%        8.000000  \n",
      "max       10.000000  \n",
      "\n",
      "[8 rows x 288 columns]\n"
     ]
    }
   ],
   "source": [
    "print(\"\\nStatistik Deskriptif:\")\n",
    "print(df.describe())"
   ]
  },
  {
   "cell_type": "code",
   "execution_count": null,
   "id": "c3b9b71e",
   "metadata": {},
   "outputs": [],
   "source": []
  }
 ],
 "metadata": {
  "kernelspec": {
   "display_name": "Python 3",
   "language": "python",
   "name": "python3"
  },
  "language_info": {
   "codemirror_mode": {
    "name": "ipython",
    "version": 3
   },
   "file_extension": ".py",
   "mimetype": "text/x-python",
   "name": "python",
   "nbconvert_exporter": "python",
   "pygments_lexer": "ipython3",
   "version": "3.10.6"
  }
 },
 "nbformat": 4,
 "nbformat_minor": 5
}
